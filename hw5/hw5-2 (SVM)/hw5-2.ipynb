{
 "cells": [
  {
   "cell_type": "code",
   "execution_count": 65,
   "metadata": {},
   "outputs": [],
   "source": [
    "import numpy as np\n",
    "import csv\n",
    "import matplotlib.pyplot as plt\n",
    "from scipy.spatial.distance import cdist\n",
    "from libsvm.python.svmutil import *"
   ]
  },
  {
   "cell_type": "code",
   "execution_count": 2,
   "metadata": {},
   "outputs": [],
   "source": [
    "def loadData():\n",
    "    X_train = np.genfromtxt('X_train.csv', delimiter=',')\n",
    "    Y_train = np.genfromtxt('Y_train.csv', dtype=np.int)\n",
    "    X_test = np.genfromtxt('X_test.csv', delimiter=',')\n",
    "    Y_test = np.genfromtxt('Y_test.csv', dtype=np.int)\n",
    "    return X_train, Y_train, X_test, Y_test"
   ]
  },
  {
   "cell_type": "markdown",
   "metadata": {},
   "source": [
    "# Load Data"
   ]
  },
  {
   "cell_type": "code",
   "execution_count": 3,
   "metadata": {},
   "outputs": [],
   "source": [
    "X_train, Y_train, X_test, Y_test = loadData()"
   ]
  },
  {
   "cell_type": "markdown",
   "metadata": {},
   "source": [
    "# Part 1"
   ]
  },
  {
   "cell_type": "code",
   "execution_count": 65,
   "metadata": {
    "scrolled": true
   },
   "outputs": [],
   "source": [
    "kernelParams = {'linear': '-t 0', 'polynomial': '-t 1', 'RBF': '-t 2'}"
   ]
  },
  {
   "cell_type": "code",
   "execution_count": 66,
   "metadata": {},
   "outputs": [],
   "source": [
    "acc_test = {}\n",
    "for kernelType, param in kernelParams.items():\n",
    "    model = svm_train(Y_train, X_train, param)\n",
    "    p_label, p_acc, p_vals = svm_predict(Y_test, X_test, model, '-q')\n",
    "    acc_test[kernelType] = p_acc[0]"
   ]
  },
  {
   "cell_type": "code",
   "execution_count": 67,
   "metadata": {},
   "outputs": [
    {
     "name": "stdout",
     "output_type": "stream",
     "text": [
      "Testing Accuracy:\n",
      "    linear: 95.08 %\n",
      "polynomial: 34.68 %\n",
      "       RBF: 95.32 %\n"
     ]
    }
   ],
   "source": [
    "print('Testing Accuracy:')\n",
    "for kernelType, acc in acc_test.items():\n",
    "    print(f'{kernelType:>10s}: {acc:.2f} %')"
   ]
  },
  {
   "cell_type": "markdown",
   "metadata": {},
   "source": [
    "# Part 2"
   ]
  },
  {
   "cell_type": "code",
   "execution_count": 75,
   "metadata": {},
   "outputs": [],
   "source": [
    "def gridSearch(X_train, Y_train, X_test, Y_test, kernelType: str, kernelFunction: callable=None, **searchSpace):\n",
    "    # search sapce: search space of each parameter\n",
    "    # return: ndarray with cross-validation acc of every combinations of parameters in the search space\n",
    "    \n",
    "    if kernelType == 'linear': # param: C\n",
    "        acc_validate = np.zeros(len(searchSpace['C']))\n",
    "        \n",
    "        for i_c, c in enumerate(searchSpace['C']):\n",
    "            acc_validate[i_c] = svm_train(Y_train, X_train, f'-s 0 -t 0 -v 3 -c {c}')\n",
    "    \n",
    "    \n",
    "    elif kernelType == 'polynomial': # param: C, gamma, coef0, degree\n",
    "        acc_validate = np.zeros((len(searchSpace['C']), len(searchSpace['gamma']), len(searchSpace['coef0']), len(searchSpace['degree'])))\n",
    "        \n",
    "        for i_c, c in enumerate(searchSpace['C']):\n",
    "            for i_gamma, gamma in enumerate(searchSpace['gamma']):\n",
    "                for i_coef0, coef0 in enumerate(searchSpace['coef0']):\n",
    "                    for i_degree, degree in enumerate(searchSpace['degree']):\n",
    "                        acc_validate[i_c, i_gamma, i_coef0, i_degree] = svm_train(Y_train, X_train, f'-s 0 -t 1 -v 3 -c {c} -g {gamma} -r {coef0} -d {degree}')\n",
    "    \n",
    "    \n",
    "    elif kernelType == 'RBF': # param: C, gamma\n",
    "        acc_validate = np.zeros((len(searchSpace['C']), len(searchSpace['gamma'])))\n",
    "        \n",
    "        for i_c, c in enumerate(searchSpace['C']):\n",
    "            for i_gamma, gamma in enumerate(searchSpace['gamma']):\n",
    "                acc_validate[i_c, i_gamma] = svm_train(Y_train, X_train, f'-s 0 -t 2 -v 3 -c {c} -g {gamma}')\n",
    "    \n",
    "    \n",
    "    elif kernelType == 'custom': # param: C, gamma\n",
    "        acc_validate = np.zeros((len(searchSpace['C']), len(searchSpace['gamma'])))\n",
    "        \n",
    "        for i_c, c in enumerate(searchSpace['C']):\n",
    "            for i_gamma, gamma in enumerate(searchSpace['gamma']):\n",
    "                # compute kernels\n",
    "                kernel_train = kernelFunction(X_train, X_train, gamma=gamma)\n",
    "                \n",
    "                # train with cross-validation\n",
    "                prob = svm_problem(Y_train, kernel_train, isKernel=True)\n",
    "                acc_validate[i_c, i_gamma] = svm_train(prob, f'-s 0 -t 4 -v 3 -c {c}')\n",
    "    \n",
    "    \n",
    "    return acc_validate"
   ]
  },
  {
   "cell_type": "markdown",
   "metadata": {},
   "source": [
    "## Grid Search on Linear Kernel"
   ]
  },
  {
   "cell_type": "code",
   "execution_count": 47,
   "metadata": {},
   "outputs": [],
   "source": [
    "searchSpace_C = [2 ** i for i in range(-3, 4)]"
   ]
  },
  {
   "cell_type": "code",
   "execution_count": 48,
   "metadata": {
    "scrolled": true
   },
   "outputs": [],
   "source": [
    "%%capture\n",
    "# suppress output of svm_train\n",
    "\n",
    "acc_validate = gridSearch(X_train, Y_train, X_test, Y_test,\n",
    "                          kernelType = 'linear',\n",
    "                          C = searchSpace_C)"
   ]
  },
  {
   "cell_type": "code",
   "execution_count": 49,
   "metadata": {},
   "outputs": [
    {
     "name": "stdout",
     "output_type": "stream",
     "text": [
      "Highest validation acc: 96.64 %\n",
      "Parameters:\n",
      "C\t: 0.125\n"
     ]
    }
   ],
   "source": [
    "acc = np.max(acc_validate)\n",
    "i = np.argmax(acc_validate)\n",
    "print(f'Highest validation acc: {acc} %')\n",
    "print('Parameters:')\n",
    "print(f'C\\t: {searchSpace_C[i]}')"
   ]
  },
  {
   "cell_type": "code",
   "execution_count": 50,
   "metadata": {},
   "outputs": [],
   "source": [
    "np.save('linear_validate', acc_validate) # save validation result"
   ]
  },
  {
   "cell_type": "markdown",
   "metadata": {},
   "source": [
    "### Train / Test"
   ]
  },
  {
   "cell_type": "code",
   "execution_count": 55,
   "metadata": {},
   "outputs": [],
   "source": [
    "acc_validate = np.load('linear_validate.npy') # load validation result\n",
    "i = np.argmax(acc_validate)"
   ]
  },
  {
   "cell_type": "code",
   "execution_count": 56,
   "metadata": {},
   "outputs": [
    {
     "name": "stdout",
     "output_type": "stream",
     "text": [
      "Testing Accuracy: 95.92 %\n"
     ]
    }
   ],
   "source": [
    "c = searchSpace_C[i]\n",
    "\n",
    "model = svm_train(Y_train, X_train, f'-s 0 -t 0 -c {c}')\n",
    "p_label, p_acc, p_vals = svm_predict(Y_test, X_test, model, '-q')\n",
    "print(f'Testing Accuracy: {p_acc[0]:.2f} %')"
   ]
  },
  {
   "cell_type": "markdown",
   "metadata": {},
   "source": [
    "## Grid Search on Polynomial Kernel"
   ]
  },
  {
   "cell_type": "code",
   "execution_count": 36,
   "metadata": {},
   "outputs": [],
   "source": [
    "searchSpace_C = [2 ** i for i in range(-3, 4)]\n",
    "searchSpace_gamma = [2 ** i / 784 for i in range(-3, 4)]\n",
    "searchSpace_coef0 = [-1, 0, 1]\n",
    "searchSpace_degree = [2, 3, 5, 8]"
   ]
  },
  {
   "cell_type": "code",
   "execution_count": 37,
   "metadata": {
    "scrolled": true
   },
   "outputs": [],
   "source": [
    "%%capture\n",
    "acc_validate = gridSearch(X_train, Y_train, X_test, Y_test,\n",
    "                          kernelType='polynomial',\n",
    "                          C=searchSpace_C,\n",
    "                          gamma=searchSpace_gamma,\n",
    "                          coef0=searchSpace_coef0,\n",
    "                          degree=searchSpace_degree)"
   ]
  },
  {
   "cell_type": "code",
   "execution_count": 39,
   "metadata": {},
   "outputs": [
    {
     "name": "stdout",
     "output_type": "stream",
     "text": [
      "Highest validation acc: 98.11999999999999 %\n",
      "Parameters:\n",
      "C\t: 8\n",
      "gamma\t: 0.01020408163265306\n",
      "coef0\t: 0\n",
      "degree\t: 2\n"
     ]
    }
   ],
   "source": [
    "acc = np.max(acc_validate)\n",
    "i_c, i_gamma, i_coef0, i_degree = np.unravel_index(np.argmax(acc_validate), (7, 7, 3, 4))\n",
    "print(f'Highest validation acc: {acc} %')\n",
    "print('Parameters:')\n",
    "print(f'C\\t: {searchSpace_C[i_c]}')\n",
    "print(f'gamma\\t: {searchSpace_gamma[i_gamma]}')\n",
    "print(f'coef0\\t: {searchSpace_coef0[i_coef0]}')\n",
    "print(f'degree\\t: {searchSpace_degree[i_degree]}')"
   ]
  },
  {
   "cell_type": "code",
   "execution_count": 44,
   "metadata": {},
   "outputs": [],
   "source": [
    "np.save('polynomial_validate.npy', acc_validate)"
   ]
  },
  {
   "cell_type": "markdown",
   "metadata": {},
   "source": [
    "### Train / Test"
   ]
  },
  {
   "cell_type": "code",
   "execution_count": 58,
   "metadata": {},
   "outputs": [],
   "source": [
    "acc_validate = np.load('polynomial_validate.npy') # load validation result\n",
    "i_c, i_gamma, i_coef0, i_degree = np.unravel_index(np.argmax(acc_validate), (7, 7, 3, 4))"
   ]
  },
  {
   "cell_type": "code",
   "execution_count": 59,
   "metadata": {},
   "outputs": [
    {
     "name": "stdout",
     "output_type": "stream",
     "text": [
      "Testing Accuracy: 97.84 %\n"
     ]
    }
   ],
   "source": [
    "c = searchSpace_C[i_c]\n",
    "gamma = searchSpace_gamma[i_gamma]\n",
    "coef0 = searchSpace_coef0[i_coef0]\n",
    "degree = searchSpace_degree[i_degree]\n",
    "\n",
    "model = svm_train(Y_train, X_train, f'-s 0 -t 1 -c {c} -g {gamma} -r {coef0} -d {degree}')\n",
    "p_label, p_acc, p_vals = svm_predict(Y_test, X_test, model, '-q')\n",
    "print(f'Testing Accuracy: {p_acc[0]:.2f} %')"
   ]
  },
  {
   "cell_type": "markdown",
   "metadata": {},
   "source": [
    "## Grid Search on RBF Kernel"
   ]
  },
  {
   "cell_type": "code",
   "execution_count": 51,
   "metadata": {},
   "outputs": [],
   "source": [
    "searchSpace_C = [2 ** i for i in range(-3, 4)]\n",
    "searchSpace_gamma = [2 ** i / 784 for i in range(-3, 4)]"
   ]
  },
  {
   "cell_type": "code",
   "execution_count": 52,
   "metadata": {
    "scrolled": true
   },
   "outputs": [],
   "source": [
    "%%capture\n",
    "acc_validate = gridSearch(X_train, Y_train, X_test, Y_test,\n",
    "                          kernelType='RBF',\n",
    "                          C=searchSpace_C,\n",
    "                          gamma=searchSpace_gamma)"
   ]
  },
  {
   "cell_type": "code",
   "execution_count": 53,
   "metadata": {},
   "outputs": [
    {
     "name": "stdout",
     "output_type": "stream",
     "text": [
      "Highest validation acc: 98.18 %\n",
      "Parameters:\n",
      "C\t: 8\n",
      "gamma\t: 0.01020408163265306\n"
     ]
    }
   ],
   "source": [
    "acc = np.max(acc_validate)\n",
    "i_c, i_gamma = np.unravel_index(np.argmax(acc_validate), (7, 7))\n",
    "print(f'Highest validation acc: {acc} %')\n",
    "print('Parameters:')\n",
    "print(f'C\\t: {searchSpace_C[i_c]}')\n",
    "print(f'gamma\\t: {searchSpace_gamma[i_gamma]}')"
   ]
  },
  {
   "cell_type": "code",
   "execution_count": 54,
   "metadata": {},
   "outputs": [],
   "source": [
    "np.save('RBF_validate', acc_validate)"
   ]
  },
  {
   "cell_type": "markdown",
   "metadata": {},
   "source": [
    "### Train / Test"
   ]
  },
  {
   "cell_type": "code",
   "execution_count": 61,
   "metadata": {},
   "outputs": [],
   "source": [
    "acc_validate = np.load('RBF_validate.npy') # load validation result\n",
    "i_c, i_gamma = np.unravel_index(np.argmax(acc_validate), (7, 7))"
   ]
  },
  {
   "cell_type": "code",
   "execution_count": 62,
   "metadata": {},
   "outputs": [
    {
     "name": "stdout",
     "output_type": "stream",
     "text": [
      "Testing Accuracy: 98.20 %\n"
     ]
    }
   ],
   "source": [
    "c = searchSpace_C[i_c]\n",
    "gamma = searchSpace_gamma[i_gamma]\n",
    "\n",
    "model = svm_train(Y_train, X_train, f'-s 0 -t 2 -c {c} -g {gamma}')\n",
    "p_label, p_acc, p_vals = svm_predict(Y_test, X_test, model, '-q')\n",
    "print(f'Testing Accuracy: {p_acc[0]:.2f} %')"
   ]
  },
  {
   "cell_type": "markdown",
   "metadata": {},
   "source": [
    "# Part 3"
   ]
  },
  {
   "cell_type": "code",
   "execution_count": 72,
   "metadata": {},
   "outputs": [],
   "source": [
    "def computeCustomKernel(U, V, gamma):\n",
    "    # u, v: Nxm\n",
    "    kernel_linear = U @ V.T\n",
    "    kernel_RBF = np.exp(-gamma * cdist(U, V, 'sqeuclidean'))\n",
    "    kernel = kernel_linear + kernel_RBF\n",
    "    kernel = np.hstack((np.arange(1, U.shape[0] + 1).reshape(-1, 1), kernel))\n",
    "    return kernel"
   ]
  },
  {
   "cell_type": "code",
   "execution_count": 73,
   "metadata": {},
   "outputs": [
    {
     "name": "stdout",
     "output_type": "stream",
     "text": [
      "Testing Accuracy: 95.08 %\n"
     ]
    }
   ],
   "source": [
    "# train\n",
    "kernel_train = computeCustomKernel(X_train, X_train, gamma=1/784) # default gamma\n",
    "prob = svm_problem(Y_train, kernel_train, isKernel=True)\n",
    "model = svm_train(prob, '-s 0 -t 4')\n",
    "\n",
    "# test\n",
    "kernel_test = computeCustomKernel(X_test, X_train, gamma=1/784)\n",
    "p_label, p_acc, p_vals = svm_predict(Y_test, kernel_test, model, '-q')\n",
    "print(f'Testing Accuracy: {p_acc[0]:.2f} %')"
   ]
  },
  {
   "cell_type": "markdown",
   "metadata": {},
   "source": [
    "## Grid Search on Custom (Linear + RBF) Kernel"
   ]
  },
  {
   "cell_type": "code",
   "execution_count": 76,
   "metadata": {},
   "outputs": [],
   "source": [
    "searchSpace_C = [2 ** i for i in range(-3, 4)]\n",
    "searchSpace_gamma = [2 ** i / 784 for i in range(-3, 4)]"
   ]
  },
  {
   "cell_type": "code",
   "execution_count": 78,
   "metadata": {
    "scrolled": true
   },
   "outputs": [],
   "source": [
    "%%capture\n",
    "acc_validate = gridSearch(X_train, Y_train, X_test, Y_test,\n",
    "                          kernelType='custom',\n",
    "                          kernelFunction=computeCustomKernel,\n",
    "                          C=searchSpace_C,\n",
    "                          gamma=searchSpace_gamma)"
   ]
  },
  {
   "cell_type": "code",
   "execution_count": 79,
   "metadata": {},
   "outputs": [
    {
     "name": "stdout",
     "output_type": "stream",
     "text": [
      "Highest validation acc: 96.88 %\n",
      "Parameters:\n",
      "C\t: 0.125\n",
      "gamma\t: 0.01020408163265306\n"
     ]
    }
   ],
   "source": [
    "acc = np.max(acc_validate)\n",
    "i_c, i_gamma = np.unravel_index(np.argmax(acc_validate), (7, 7))\n",
    "print(f'Highest validation acc: {acc} %')\n",
    "print('Parameters:')\n",
    "print(f'C\\t: {searchSpace_C[i_c]}')\n",
    "print(f'gamma\\t: {searchSpace_gamma[i_gamma]}')"
   ]
  },
  {
   "cell_type": "code",
   "execution_count": 80,
   "metadata": {},
   "outputs": [],
   "source": [
    "np.save('linear_RBF_validate', acc_validate)"
   ]
  },
  {
   "cell_type": "markdown",
   "metadata": {},
   "source": [
    "### Train / Test"
   ]
  },
  {
   "cell_type": "code",
   "execution_count": 81,
   "metadata": {},
   "outputs": [],
   "source": [
    "acc_validate = np.load('linear_RBF_validate.npy') # load validation result\n",
    "i_c, i_gamma = np.unravel_index(np.argmax(acc_validate), (7, 7))"
   ]
  },
  {
   "cell_type": "code",
   "execution_count": 82,
   "metadata": {},
   "outputs": [
    {
     "name": "stdout",
     "output_type": "stream",
     "text": [
      "Testing Accuracy: 95.96 %\n"
     ]
    }
   ],
   "source": [
    "c = searchSpace_C[i_c]\n",
    "gamma = searchSpace_gamma[i_gamma]\n",
    "\n",
    "# train\n",
    "precomputedKernel_train = computeCustomKernel(X_train, X_train, gamma=gamma)\n",
    "prob = svm_problem(Y_train, precomputedKernel_train, isKernel=True)\n",
    "model = svm_train(prob, f'-s 0 -t 4 -c {c}')\n",
    "\n",
    "# test\n",
    "precomputedKernel_test = computeCustomKernel(X_test, X_train, gamma=gamma)\n",
    "p_label, p_acc, p_vals = svm_predict(Y_test, precomputedKernel_test, model, '-q')\n",
    "print(f'Testing Accuracy: {p_acc[0]:.2f} %')"
   ]
  },
  {
   "cell_type": "code",
   "execution_count": null,
   "metadata": {},
   "outputs": [],
   "source": []
  },
  {
   "cell_type": "code",
   "execution_count": null,
   "metadata": {},
   "outputs": [],
   "source": [
    "plt.figure(figsize=(10, 10))\n",
    "plt.matshow(acc_validate, cmap='Blues', fignum=1)\n",
    "plt.gca().set_xticklabels([''] + list(np.round(searchSpace_gamma, 6)))\n",
    "plt.gca().set_yticklabels([''] + searchSpace_C)\n",
    "plt.gca().xaxis.set_label_position('top')\n",
    "plt.gca().yaxis.set_label_position('left')\n",
    "plt.xlabel('gamma', fontsize=20)\n",
    "plt.ylabel('C', fontsize=20)\n",
    "for i_c, c in enumerate(searchSpace_C):\n",
    "    for i_gamma, gamma in enumerate(searchSpace_gamma):\n",
    "        plt.text(i_gamma, i_c, f'{acc_validate[i_c, i_gamma]:.2f}', va='center', ha='center', fontsize=14)\n",
    "\n",
    "plt.show()"
   ]
  }
 ],
 "metadata": {
  "kernelspec": {
   "display_name": "Python 3",
   "language": "python",
   "name": "python3"
  },
  "language_info": {
   "codemirror_mode": {
    "name": "ipython",
    "version": 3
   },
   "file_extension": ".py",
   "mimetype": "text/x-python",
   "name": "python",
   "nbconvert_exporter": "python",
   "pygments_lexer": "ipython3",
   "version": "3.8.3"
  }
 },
 "nbformat": 4,
 "nbformat_minor": 4
}
