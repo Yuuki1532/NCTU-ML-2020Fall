{
 "cells": [
  {
   "cell_type": "code",
   "execution_count": 296,
   "metadata": {},
   "outputs": [],
   "source": [
    "import numpy as np\n",
    "import matplotlib.pyplot as plt"
   ]
  },
  {
   "cell_type": "markdown",
   "metadata": {},
   "source": [
    "# Random Number Generator"
   ]
  },
  {
   "cell_type": "code",
   "execution_count": 297,
   "metadata": {},
   "outputs": [],
   "source": [
    "def sampleGaussian(mean, var):\n",
    "    # Box–Muller method\n",
    "    u, v = np.random.uniform(size=2)\n",
    "    \n",
    "    x = (-2 * np.log(u)) ** 0.5 * np.cos(2 * np.pi * v)\n",
    "    # y = (-2 * np.log(u)) ** 0.5 * np.sin(2 * np.pi * v)\n",
    "    \n",
    "    return mean + x * var ** 0.5"
   ]
  },
  {
   "cell_type": "markdown",
   "metadata": {},
   "source": [
    "# Optimizer / Gradient Function"
   ]
  },
  {
   "cell_type": "code",
   "execution_count": 298,
   "metadata": {},
   "outputs": [],
   "source": [
    "def optimize(w, gradient, lr=0.01, eps=1e-2):\n",
    "    if np.linalg.norm(gradient) <= eps:\n",
    "        return False # converged\n",
    "    w -= lr * gradient\n",
    "    return True # stepped"
   ]
  },
  {
   "cell_type": "code",
   "execution_count": 299,
   "metadata": {},
   "outputs": [],
   "source": [
    "def calculateGradient(X, y, w, mode='grad'):\n",
    "    if mode == 'grad':\n",
    "        return -X.T @ (y - 1 / (1 + np.exp(-X @ w)))\n",
    "    \n",
    "    if mode == 'newton':\n",
    "        N = X.shape[0]\n",
    "        D = np.zeros((N, N))\n",
    "        \n",
    "        for i in range(N):\n",
    "            D[i, i] = np.exp(-X[i] @ w) / (1 + np.exp(-X[i] @ w)) ** 2\n",
    "        \n",
    "        H = X.T @ D @ X\n",
    "        \n",
    "        if np.linalg.matrix_rank(H) < H.shape[0]:\n",
    "            print('H is singular.')\n",
    "            return calculateGradient(X, y, w)\n",
    "        \n",
    "        return np.linalg.inv(H) @ calculateGradient(X, y, w)"
   ]
  },
  {
   "cell_type": "markdown",
   "metadata": {},
   "source": [
    "# Console Output Function"
   ]
  },
  {
   "cell_type": "code",
   "execution_count": 300,
   "metadata": {},
   "outputs": [],
   "source": [
    "def consoleOutput(X, y, w):\n",
    "    # gradient descent\n",
    "    print('Gradient descent:\\n')\n",
    "    print('w:')\n",
    "    for i in range(3):\n",
    "        print('{:> 9.4f}'.format(w['grad'][i].item()))\n",
    "\n",
    "    # confusion matrix\n",
    "    pred = np.where(X @ w['grad'] <= 0, 0, 1)\n",
    "    cm = np.zeros((2, 2), dtype=np.int)\n",
    "    for i in range(2):\n",
    "        for j in range(2):\n",
    "            cm[i, j] = np.count_nonzero((y == i) & (pred == j))\n",
    "\n",
    "    print('\\nConfusion Matrix:')\n",
    "    print('\\t\\tPredict cluster 1\\tPredict cluster 2')\n",
    "    print(f'Is cluster 1\\t\\t{cm[0, 0]}\\t\\t\\t{cm[0, 1]}')\n",
    "    print(f'Is cluster 2\\t\\t{cm[1, 0]}\\t\\t\\t{cm[1, 1]}\\n')\n",
    "\n",
    "    print(f'Sensitivity (Successfully predict cluster 1): {cm[0, 0] / (cm[0, 0] + cm[0, 1]):.5f}')\n",
    "    print(f'Specificity (Successfully predict cluster 2): {cm[1, 1] / (cm[1, 0] + cm[1, 1]):.5f}')\n",
    "    print('\\n----------------------------------------')\n",
    "\n",
    "\n",
    "    # Newton's method\n",
    "    print('Newton\\'s method:\\n')\n",
    "    print('w:')\n",
    "    for i in range(3):\n",
    "        print('{:> 9.4f}'.format(w['newton'][i].item()))\n",
    "\n",
    "    # confusion matrix\n",
    "    pred = np.where(X @ w['newton'] <= 0, 0, 1)\n",
    "    cm = np.zeros((2, 2), dtype=np.int)\n",
    "    for i in range(2):\n",
    "        for j in range(2):\n",
    "            cm[i, j] = np.count_nonzero((y == i) & (pred == j))\n",
    "\n",
    "    print('\\nConfusion Matrix:')\n",
    "    print('\\t\\tPredict cluster 1\\tPredict cluster 2')\n",
    "    print(f'Is cluster 1\\t\\t{cm[0, 0]}\\t\\t\\t{cm[0, 1]}')\n",
    "    print(f'Is cluster 2\\t\\t{cm[1, 0]}\\t\\t\\t{cm[1, 1]}\\n')\n",
    "\n",
    "    print(f'Sensitivity (Successfully predict cluster 1): {cm[0, 0] / (cm[0, 0] + cm[0, 1]):.5f}')\n",
    "    print(f'Specificity (Successfully predict cluster 2): {cm[1, 1] / (cm[1, 0] + cm[1, 1]):.5f}')"
   ]
  },
  {
   "cell_type": "markdown",
   "metadata": {},
   "source": [
    "# Plot Figure Function"
   ]
  },
  {
   "cell_type": "code",
   "execution_count": 301,
   "metadata": {},
   "outputs": [],
   "source": [
    "def plot(X, y, w):\n",
    "    plt.figure(figsize=(10, 8))\n",
    "\n",
    "    gt = plt.subplot(1, 3, 1)\n",
    "    grad = plt.subplot(1, 3, 2)\n",
    "    newton = plt.subplot(1, 3, 3)\n",
    "\n",
    "    # title\n",
    "    gt.set_title('Ground truth')\n",
    "    grad.set_title('Gradient descent')\n",
    "    newton.set_title('Newton\\'s method')\n",
    "\n",
    "\n",
    "    # plot gt\n",
    "    gt.plot(X[:N, 0], X[:N, 1], 'ro')\n",
    "    gt.plot(X[-N:, 0], X[-N:, 1], 'bo')\n",
    "\n",
    "\n",
    "    # plot grad\n",
    "    pred = (X @ w['grad']).reshape(-1)\n",
    "    grad.plot(X[pred <= 0, 0], X[pred <= 0, 1], 'ro')\n",
    "    grad.plot(X[pred > 0, 0], X[pred > 0, 1], 'bo')\n",
    "\n",
    "    # decision boundary\n",
    "#     x = np.linspace(np.min(X[:, 0]), np.max(X[:, 0]))\n",
    "#     grad.plot(x, -(w['grad'][2] + w['grad'][0] * x) / w['grad'][1])\n",
    "\n",
    "\n",
    "    # plot neweton\n",
    "    pred = (X @ w['newton']).reshape(-1)\n",
    "    newton.plot(X[pred <= 0, 0], X[pred <= 0, 1], 'ro')\n",
    "    newton.plot(X[pred > 0, 0], X[pred > 0, 1], 'bo')\n",
    "\n",
    "    # decision boundary\n",
    "#     x = np.linspace(np.min(X[:, 0]), np.max(X[:, 0]))\n",
    "#     newton.plot(x, -(w['newton'][2] + w['newton'][0] * x) / w['newton'][1])\n",
    "\n",
    "    plt.show()"
   ]
  },
  {
   "cell_type": "markdown",
   "metadata": {},
   "source": [
    "# Logistic Regression"
   ]
  },
  {
   "cell_type": "code",
   "execution_count": 306,
   "metadata": {},
   "outputs": [],
   "source": [
    "# case 1\n",
    "N = 50\n",
    "mx1 = my1 = 1\n",
    "mx2 = my2 = 10\n",
    "vx1 = vy1 = vx2 = vy2 = 2"
   ]
  },
  {
   "cell_type": "code",
   "execution_count": 303,
   "metadata": {},
   "outputs": [],
   "source": [
    "# case 2\n",
    "N = 50\n",
    "mx1 = my1 = 1\n",
    "mx2 = my2 = 3\n",
    "vx1 = vy1 = 2\n",
    "vx2 = vy2 = 4"
   ]
  },
  {
   "cell_type": "code",
   "execution_count": 307,
   "metadata": {},
   "outputs": [
    {
     "name": "stdout",
     "output_type": "stream",
     "text": [
      "Gradient Descent:\tConverged in 19381 iterations.\n",
      "Newton's Method:\tConverged in 236 iterations.\n"
     ]
    }
   ],
   "source": [
    "# generate data\n",
    "X = np.ones((2 * N, 3))\n",
    "y = np.empty((2 * N, 1))\n",
    "\n",
    "for i in range(2 * N):\n",
    "    if i < N: # class 0\n",
    "        X[i][0] = sampleGaussian(mx1, vx1)\n",
    "        X[i][1] = sampleGaussian(my1, vy1)\n",
    "        y[i][0] = 0\n",
    "    else: # class 1\n",
    "        X[i][0] = sampleGaussian(mx2, vx2)\n",
    "        X[i][1] = sampleGaussian(my2, vy2)\n",
    "        y[i][0] = 1\n",
    "\n",
    "\n",
    "# initialize parameters\n",
    "w = {'grad': None, 'newton': None}\n",
    "w['grad'] = np.zeros((3, 1))\n",
    "w['newton'] = np.zeros((3, 1))\n",
    "\n",
    "\n",
    "# fit\n",
    "# calculate gradient and optimize w (gradient descent)\n",
    "i = 0\n",
    "while optimize(w['grad'], calculateGradient(X, y, w['grad'])): i += 1\n",
    "print(f'Gradient Descent:\\tConverged in {i} iterations.')\n",
    "\n",
    "\n",
    "# calculate gradient and optimize w (Newton's method)\n",
    "i = 0\n",
    "while optimize(w['newton'], calculateGradient(X, y, w['newton'], mode='newton'), lr=1): i += 1\n",
    "print(f'Newton\\'s Method:\\tConverged in {i} iterations.')\n"
   ]
  },
  {
   "cell_type": "code",
   "execution_count": 308,
   "metadata": {},
   "outputs": [
    {
     "name": "stdout",
     "output_type": "stream",
     "text": [
      "Gradient descent:\n",
      "\n",
      "w:\n",
      "   1.5996\n",
      "   0.9283\n",
      " -13.8013\n",
      "\n",
      "Confusion Matrix:\n",
      "\t\tPredict cluster 1\tPredict cluster 2\n",
      "Is cluster 1\t\t50\t\t\t0\n",
      "Is cluster 2\t\t0\t\t\t50\n",
      "\n",
      "Sensitivity (Successfully predict cluster 1): 1.00000\n",
      "Specificity (Successfully predict cluster 2): 1.00000\n",
      "\n",
      "----------------------------------------\n",
      "Newton's method:\n",
      "\n",
      "w:\n",
      "  12.3490\n",
      "   6.7481\n",
      "-116.4484\n",
      "\n",
      "Confusion Matrix:\n",
      "\t\tPredict cluster 1\tPredict cluster 2\n",
      "Is cluster 1\t\t50\t\t\t0\n",
      "Is cluster 2\t\t0\t\t\t50\n",
      "\n",
      "Sensitivity (Successfully predict cluster 1): 1.00000\n",
      "Specificity (Successfully predict cluster 2): 1.00000\n"
     ]
    },
    {
     "data": {
      "image/png": "[encoded data removed]",
      "text/plain": [
       "<Figure size 720x576 with 3 Axes>"
      ]
     },
     "metadata": {
      "needs_background": "light"
     },
     "output_type": "display_data"
    }
   ],
   "source": [
    "consoleOutput(X, y, w)\n",
    "plot(X, y, w)"
   ]
  },
  {
   "cell_type": "code",
   "execution_count": null,
   "metadata": {},
   "outputs": [],
   "source": []
  }
 ],
 "metadata": {
  "kernelspec": {
   "display_name": "Python 3",
   "language": "python",
   "name": "python3"
  },
  "language_info": {
   "codemirror_mode": {
    "name": "ipython",
    "version": 3
   },
   "file_extension": ".py",
   "mimetype": "text/x-python",
   "name": "python",
   "nbconvert_exporter": "python",
   "pygments_lexer": "ipython3",
   "version": "3.8.3"
  }
 },
 "nbformat": 4,
 "nbformat_minor": 4
}
