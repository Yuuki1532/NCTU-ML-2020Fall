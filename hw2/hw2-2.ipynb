{
 "cells": [
  {
   "cell_type": "code",
   "execution_count": 1,
   "metadata": {},
   "outputs": [],
   "source": [
    "import math"
   ]
  },
  {
   "cell_type": "code",
   "execution_count": 2,
   "metadata": {},
   "outputs": [],
   "source": [
    "def main(argv):\n",
    "    _, filename, a, b, *_ = argv\n",
    "    a = int(a)\n",
    "    b = int(b)\n",
    "    \n",
    "    with open(filename, 'r') as f:\n",
    "        for i, line in enumerate(f, start=1):\n",
    "            ones = line.count('1')\n",
    "            zeros = line.count('0')\n",
    "            trails = ones + zeros\n",
    "            \n",
    "            pMLE = ones / trails\n",
    "            likelihood = math.comb(trails, ones) * pMLE ** ones * (1 - pMLE) ** zeros\n",
    "            \n",
    "            print(f'case {i}: {line.strip()}')\n",
    "            print(f'Likelihood: {likelihood}')\n",
    "            print(f'Beta prior:\\ta = {a} b = {b}')\n",
    "            a += ones\n",
    "            b += zeros\n",
    "            print(f'Beta posterior:\\ta = {a} b = {b}\\n')\n",
    "    \n",
    "    return 0"
   ]
  },
  {
   "cell_type": "code",
   "execution_count": 4,
   "metadata": {},
   "outputs": [
    {
     "name": "stdout",
     "output_type": "stream",
     "text": [
      "case 1: 0101010101001011010101\n",
      "Likelihood: 0.16818809509277344\n",
      "Beta prior:\ta = 0 b = 0\n",
      "Beta posterior:\ta = 11 b = 11\n",
      "\n",
      "case 2: 0110101\n",
      "Likelihood: 0.29375515303997485\n",
      "Beta prior:\ta = 11 b = 11\n",
      "Beta posterior:\ta = 15 b = 14\n",
      "\n",
      "case 3: 010110101101\n",
      "Likelihood: 0.2286054241794335\n",
      "Beta prior:\ta = 15 b = 14\n",
      "Beta posterior:\ta = 22 b = 19\n",
      "\n",
      "case 4: 0101101011101011010\n",
      "Likelihood: 0.18286870706509092\n",
      "Beta prior:\ta = 22 b = 19\n",
      "Beta posterior:\ta = 33 b = 27\n",
      "\n",
      "case 5: 111101100011110\n",
      "Likelihood: 0.2143070548857833\n",
      "Beta prior:\ta = 33 b = 27\n",
      "Beta posterior:\ta = 43 b = 32\n",
      "\n",
      "case 6: 101110111000110\n",
      "Likelihood: 0.20659760529408\n",
      "Beta prior:\ta = 43 b = 32\n",
      "Beta posterior:\ta = 52 b = 38\n",
      "\n",
      "case 7: 1010010111\n",
      "Likelihood: 0.25082265600000003\n",
      "Beta prior:\ta = 52 b = 38\n",
      "Beta posterior:\ta = 58 b = 42\n",
      "\n",
      "case 8: 11101110110\n",
      "Likelihood: 0.2619678932864457\n",
      "Beta prior:\ta = 58 b = 42\n",
      "Beta posterior:\ta = 66 b = 45\n",
      "\n",
      "case 9: 01000111101\n",
      "Likelihood: 0.23609128871506807\n",
      "Beta prior:\ta = 66 b = 45\n",
      "Beta posterior:\ta = 72 b = 50\n",
      "\n",
      "case 10: 110100111\n",
      "Likelihood: 0.27312909617436365\n",
      "Beta prior:\ta = 72 b = 50\n",
      "Beta posterior:\ta = 78 b = 53\n",
      "\n",
      "case 11: 01101010111\n",
      "Likelihood: 0.24384881449471862\n",
      "Beta prior:\ta = 78 b = 53\n",
      "Beta posterior:\ta = 85 b = 57\n",
      "\n"
     ]
    },
    {
     "data": {
      "text/plain": [
       "0"
      ]
     },
     "execution_count": 4,
     "metadata": {},
     "output_type": "execute_result"
    }
   ],
   "source": [
    "main(['', 'testfile.txt', 0, 0])"
   ]
  },
  {
   "cell_type": "code",
   "execution_count": null,
   "metadata": {},
   "outputs": [],
   "source": [
    "if __name__ == '__main__':\n",
    "    import sys\n",
    "    sys.exit(main(sys.argv))"
   ]
  }
 ],
 "metadata": {
  "kernelspec": {
   "display_name": "Python 3",
   "language": "python",
   "name": "python3"
  },
  "language_info": {
   "codemirror_mode": {
    "name": "ipython",
    "version": 3
   },
   "file_extension": ".py",
   "mimetype": "text/x-python",
   "name": "python",
   "nbconvert_exporter": "python",
   "pygments_lexer": "ipython3",
   "version": "3.8.3"
  }
 },
 "nbformat": 4,
 "nbformat_minor": 4
}
