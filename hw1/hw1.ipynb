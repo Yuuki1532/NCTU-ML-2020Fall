{
 "cells": [
  {
   "cell_type": "code",
   "execution_count": 1,
   "metadata": {},
   "outputs": [],
   "source": [
    "import numpy as np\n",
    "import matplotlib.pyplot as plt"
   ]
  },
  {
   "cell_type": "code",
   "execution_count": 2,
   "metadata": {},
   "outputs": [],
   "source": [
    "def LUDecomp(A):\n",
    "    N = A.shape[0]\n",
    "    \n",
    "    # PA = LU\n",
    "    # A = P^-1 LU = P^T LU\n",
    "    P = np.eye(N)\n",
    "    L = np.eye(N)\n",
    "    U = np.copy(A.astype(np.float))\n",
    "    \n",
    "    \n",
    "    for n in range(N):\n",
    "        \n",
    "        # check whether the leading coefficient of n-th row is on the diagonal\n",
    "        if U[n,n] == 0:\n",
    "            for i in range(n + 1, N): # find a possible row to exchange with\n",
    "                if U[i,n] != 0: # exchange n-th row with i-th row\n",
    "                    P[[i,n]] = P[[n,i]] # record this operation in P\n",
    "                    U[[i,n]] = U[[n,i]] # swap rows in U\n",
    "                    L[[n,i],:n] = L[[i,n],:n] # swap entries in L\n",
    "                    break\n",
    "            else:\n",
    "                raise Exception('Inverse does not exist!')\n",
    "        \n",
    "        # do eliminations on rows below\n",
    "        for i in range(n + 1, N):\n",
    "            c = U[i,n] / U[n,n]\n",
    "            U[i] -= c * U[n]\n",
    "            L[i,n]=c\n",
    "    \n",
    "    \n",
    "    \n",
    "    return P.T, L, U"
   ]
  },
  {
   "cell_type": "code",
   "execution_count": 3,
   "metadata": {},
   "outputs": [],
   "source": [
    "def matInv(A):\n",
    "    P, L, U = LUDecomp(A)\n",
    "    \n",
    "    # A = PLU\n",
    "    # let x = A^-1\n",
    "    # Ax = I\n",
    "    # PLUx = I\n",
    "    # LUx = P^-1 I = P^T\n",
    "    \n",
    "    # let Ux = y\n",
    "    # Ly = P^T\n",
    "    # solve y\n",
    "    \n",
    "    # Ux = y\n",
    "    # solve x\n",
    "    \n",
    "    def backSub(A, B):\n",
    "        # solve AX = B where\n",
    "        # A is a (N, N) square matrix in lower triangular form\n",
    "        # X and B are (N, M) matrix\n",
    "        N = A.shape[0]\n",
    "        M = B.shape[1]\n",
    "        \n",
    "        X = np.zeros(B.shape)\n",
    "        \n",
    "        for m in range(M):\n",
    "            for n in range(N):\n",
    "                X[n] = (B[n] - np.matmul(A[n,:n], X[:n])) / A[n,n]\n",
    "        \n",
    "        \n",
    "        return X\n",
    "    \n",
    "    # Ly = P^T, solve y\n",
    "    y = backSub(L, P.T)\n",
    "    x = backSub(U[::-1,::-1], y[::-1])[::-1]\n",
    "    \n",
    "    \n",
    "    return x"
   ]
  },
  {
   "cell_type": "code",
   "execution_count": 4,
   "metadata": {},
   "outputs": [],
   "source": [
    "def fitRLSE(X, Y, n, l):\n",
    "    # X, Y are data points\n",
    "    # r is lambda (weight of regularization term)\n",
    "    # n is the number of polynomial basis,\n",
    "    # i.e. n - 1 is the highest order of polynomial: a_(n-1) * x^(n-1) + ... + a_0\n",
    "    # coefficients of polynomials are saved in descending order\n",
    "    # return: coefficient, total error\n",
    "    \n",
    "    if len(X) != len(Y):\n",
    "        raise Exception('Datapoint size mismatched!')\n",
    "    \n",
    "    X = np.array(X, dtype=np.float)\n",
    "    Y = np.array(Y, dtype=np.float)\n",
    "    \n",
    "    \n",
    "    A = np.ones((X.shape[0], n))\n",
    "    b = Y.reshape((-1, 1))\n",
    "    \n",
    "    if n >= 2:\n",
    "        A[:,n - 2] = X\n",
    "    for i in reversed(range(n - 2)):\n",
    "        A[:,i] = A[:, i + 1] * A[:,n - 2]\n",
    "    \n",
    "    x = matInv(A.T @ A + l * np.eye(n)) @ A.T @ b\n",
    "    \n",
    "    return x.reshape(-1), np.sum((A @ x - b) ** 2)"
   ]
  },
  {
   "cell_type": "code",
   "execution_count": 5,
   "metadata": {},
   "outputs": [],
   "source": [
    "def fitNewton(X, Y, n):\n",
    "    if len(X) != len(Y):\n",
    "        raise Exception('Datapoint size mismatched!')\n",
    "    \n",
    "    X = np.array(X, dtype=np.float)\n",
    "    Y = np.array(Y, dtype=np.float)\n",
    "    \n",
    "    \n",
    "    A = np.ones((X.shape[0], n))\n",
    "    b = Y.reshape((-1, 1))\n",
    "    \n",
    "    if n >= 2:\n",
    "        A[:,n - 2] = X\n",
    "    for i in reversed(range(n - 2)):\n",
    "        A[:,i] = A[:, i + 1] * A[:,n - 2]\n",
    "    \n",
    "    x0 = np.random.randn(n, 1)\n",
    "    gradientF = 2 * A.T @ A @ x0 - 2 * A.T @ b\n",
    "    HF = 2 * A.T @ A\n",
    "    x1 = x0 - matInv(HF) @ gradientF\n",
    "    \n",
    "    return x1.reshape(-1), np.sum((A @ x1 - b) ** 2)"
   ]
  },
  {
   "cell_type": "code",
   "execution_count": 6,
   "metadata": {},
   "outputs": [],
   "source": [
    "def plotFigure(X, Y, coeff1, coeff2):\n",
    "    # coeff is in descending order\n",
    "    margin = (np.max(X) - np.min(X)) // 10 # leave some space at the left and right margin\n",
    "    \n",
    "    plt.figure(figsize=(10, 10))\n",
    "    plt.xlim(np.min(X) - margin, np.max(X) + margin)\n",
    "    \n",
    "    \n",
    "    plt.subplot(2, 1, 1)\n",
    "    plt.plot(X, Y, 'ro')\n",
    "    x = np.linspace(np.min(X) - margin, np.max(X) + margin, 1000)\n",
    "    y = np.polynomial.polynomial.polyval(x, coeff1[::-1])\n",
    "    plt.plot(x, y)\n",
    "    \n",
    "    \n",
    "    plt.subplot(2, 1, 2)\n",
    "    plt.plot(X, Y, 'ro')\n",
    "    x = np.linspace(np.min(X) - margin, np.max(X) + margin, 1000)\n",
    "    y = np.polynomial.polynomial.polyval(x, coeff2[::-1])\n",
    "    plt.plot(x, y)\n",
    "    \n",
    "    plt.show()\n",
    "    return"
   ]
  },
  {
   "cell_type": "code",
   "execution_count": 26,
   "metadata": {},
   "outputs": [],
   "source": [
    "def main(argv):\n",
    "    _, filename, n, l, *_ = argv\n",
    "    n, l = int(n), int(l)\n",
    "    \n",
    "    X, Y = [], []\n",
    "    \n",
    "    with open(filename, 'r') as f:\n",
    "        for line in f:\n",
    "            x, y = map(float, line.split(','))\n",
    "            X.append(x)\n",
    "            Y.append(y)\n",
    "    \n",
    "    # rLSE\n",
    "    coeffRLSE, totalError = fitRLSE(X, Y, n, l)\n",
    "    \n",
    "    # print result\n",
    "    strLine = ''\n",
    "    for i, coeff in enumerate([f'{c}X^{n - i - 1}' if i != n - 1 else f'{c}' for i, c in enumerate(coeffRLSE)]):\n",
    "        if i != 0:\n",
    "            strLine += (' + ' if coeffRLSE[i] >= 0 else ' ')\n",
    "        strLine += coeff\n",
    "        \n",
    "    print('LSE:')\n",
    "    print(f'Fitting line: {strLine}')\n",
    "    print(f'Total error: {totalError}')\n",
    "    \n",
    "    # Newton's method\n",
    "    coeffNewton, totalError = fitNewton(X, Y, n)\n",
    "    \n",
    "    # print result\n",
    "    strLine = ''\n",
    "    for i, coeff in enumerate([f'{c}X^{n - i - 1}' if i != n - 1 else f'{c}' for i, c in enumerate(coeffNewton)]):\n",
    "        if i != 0:\n",
    "            strLine += (' + ' if coeffNewton[i] >= 0 else ' ')\n",
    "        strLine += coeff\n",
    "    \n",
    "    print(\"\\nNewton's Method:\")\n",
    "    print(f'Fitting line: {strLine}')\n",
    "    print(f'Total error: {totalError}')\n",
    "    \n",
    "    # plot figure\n",
    "    plotFigure(X, Y, coeffRLSE, coeffNewton)\n",
    "    \n",
    "    return 0"
   ]
  },
  {
   "cell_type": "code",
   "execution_count": null,
   "metadata": {},
   "outputs": [],
   "source": []
  },
  {
   "cell_type": "code",
   "execution_count": 38,
   "metadata": {},
   "outputs": [
    {
     "name": "stdout",
     "output_type": "stream",
     "text": [
      "LSE:\n",
      "Fitting line: 0.8345332827002858X^2 + 0.09314819831918816X^1 + 0.046950699273469274\n",
      "Total error: 22649.738493024153\n",
      "\n",
      "Newton's Method:\n",
      "Fitting line: 3.0238533934865717X^2 + 4.9061902638638X^1 -0.23140175608771207\n",
      "Total error: 26.55995949933305\n"
     ]
    },
    {
     "data": {
      "image/png": "[encoded data removed]",
      "text/plain": [
       "<Figure size 720x720 with 2 Axes>"
      ]
     },
     "metadata": {
      "needs_background": "light"
     },
     "output_type": "display_data"
    },
    {
     "data": {
      "text/plain": [
       "0"
      ]
     },
     "execution_count": 38,
     "metadata": {},
     "output_type": "execute_result"
    }
   ],
   "source": [
    "main(['', 'testfile.txt', 3, 10000])"
   ]
  },
  {
   "cell_type": "code",
   "execution_count": null,
   "metadata": {},
   "outputs": [],
   "source": [
    "if __name__ == '__main__':\n",
    "    import sys\n",
    "    sys.exit(main(sys.argv))"
   ]
  }
 ],
 "metadata": {
  "kernelspec": {
   "display_name": "Python 3",
   "language": "python",
   "name": "python3"
  },
  "language_info": {
   "codemirror_mode": {
    "name": "ipython",
    "version": 3
   },
   "file_extension": ".py",
   "mimetype": "text/x-python",
   "name": "python",
   "nbconvert_exporter": "python",
   "pygments_lexer": "ipython3",
   "version": "3.8.3"
  }
 },
 "nbformat": 4,
 "nbformat_minor": 4
}
